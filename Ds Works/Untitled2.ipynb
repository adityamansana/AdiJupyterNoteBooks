{
 "cells": [
  {
   "cell_type": "code",
   "execution_count": 2,
   "metadata": {},
   "outputs": [
    {
     "name": "stdout",
     "output_type": "stream",
     "text": [
      "                 Name Nationality  Age  Freekick_Accuracy  Penalties\n",
      "0   Cristiano Ronaldo    Portugal   32                 76         85\n",
      "1        Lionel Messi   Argentina   29                 90         74\n",
      "2              Neymar      Brazil   25                 84         81\n",
      "3         Luis Suárez     Uruguay   30                 84         85\n",
      "4        Manuel Neuer     Germany   31                 11         47\n",
      "5              De Gea       Spain   26                 19         40\n",
      "6  Robert Lewandowski      Poland   28                 76         81\n",
      "7         Gareth Bale       Wales   27                 85         76\n",
      "8  Zlatan Ibrahimović      Sweden   35                 82         91\n",
      "9    Thibaut Courtois     Belgium   24                 11         27\n"
     ]
    }
   ],
   "source": [
    "import numpy as np\n",
    "import pandas as pd\n",
    "import os\n",
    "import matplotlib.pyplot as plt\n",
    "\n",
    "os.chdir(\"D:/Aditya/datasets/fifa-2017-player-dataset\")\n",
    "#data = pd.read_csv(\"workbook1.csv\")\n",
    "data = pd.read_csv(\"FullData.csv\")\n",
    "\n",
    "selected=data.iloc[:10, [0,1,14,45,46]]\n",
    "#labelName=data\n",
    "#nation = data['Nationality']\n",
    "pName = selected['Name']\n",
    "pAge=selected['Age']\n",
    "Penal=selected['Penalties']\n",
    "accu=selected['Freekick_Accuracy']\n",
    "\n",
    "print(selected)\n",
    "#print(data.iloc[:10, [0,1,14,45,46]])\n",
    "#print(pName)\n",
    "\n",
    "#plt.plot(pAge,Penal)\n",
    "\n",
    "# Display the plot with plt.show()\n",
    "#plt.show()\n"
   ]
  },
  {
   "cell_type": "code",
   "execution_count": null,
   "metadata": {},
   "outputs": [],
   "source": []
  },
  {
   "cell_type": "code",
   "execution_count": null,
   "metadata": {},
   "outputs": [],
   "source": []
  },
  {
   "cell_type": "code",
   "execution_count": null,
   "metadata": {},
   "outputs": [],
   "source": []
  },
  {
   "cell_type": "code",
   "execution_count": null,
   "metadata": {},
   "outputs": [],
   "source": []
  }
 ],
 "metadata": {
  "kernelspec": {
   "display_name": "Python 3",
   "language": "python",
   "name": "python3"
  },
  "language_info": {
   "codemirror_mode": {
    "name": "ipython",
    "version": 3
   },
   "file_extension": ".py",
   "mimetype": "text/x-python",
   "name": "python",
   "nbconvert_exporter": "python",
   "pygments_lexer": "ipython3",
   "version": "3.6.5"
  }
 },
 "nbformat": 4,
 "nbformat_minor": 2
}
