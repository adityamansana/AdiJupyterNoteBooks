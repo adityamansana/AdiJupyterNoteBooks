{
 "cells": [
  {
   "cell_type": "markdown",
   "metadata": {},
   "source": [
    "# Intro\n",
    "I'm trying to learn the very basics of Machine Learning. My goal here is to train a linear regression model with a subset of columns from this given dataset in order to predict the value of a used car.\n",
    "\n",
    "reference url for solution: https://www.kaggle.com/ddmngml/trying-to-predict-used-car-value\n",
    "\n",
    "\n",
    "https://www.kaggle.com/ddmngml/trying-to-predict-used-car-value/notebook\n"
   ]
  },
  {
   "cell_type": "code",
   "execution_count": 2,
   "metadata": {},
   "outputs": [],
   "source": [
    "import pandas as pd\n",
    "import numpy as np\n",
    "import matplotlib.pyplot as plt\n",
    "import numpy as np\n",
    "from sklearn import datasets, linear_model, preprocessing, svm\n",
    "from sklearn.preprocessing import StandardScaler, Normalizer\n",
    "import math\n",
    "import matplotlib\n",
    "import seaborn as sns\n",
    "\n",
    "%matplotlib inline\n",
    "\n",
    "\n",
    "\n",
    "#autos= pd.read_csv(\"D:/Aditya/datasets/used-cars-database/autos.csv\", encoding='latin-1')\n",
    "#prices= pd.read_csv(\"D:/Aditya/datasets/used-cars-database/cnt_km_year_powerPS_minPrice_maxPrice_avgPrice_sdPrice.csv\", encoding='latin-1')\n",
    "#autos.head()"
   ]
  },
  {
   "cell_type": "markdown",
   "metadata": {},
   "source": [
    "#### Useful Functions"
   ]
  },
  {
   "cell_type": "code",
   "execution_count": 3,
   "metadata": {},
   "outputs": [],
   "source": [
    "def category_values(dataframe, categories):\n",
    "    for c in categories:\n",
    "        print('\\n', dataframe.group(by=c)[c].count().sort_values(acending=False))\n",
    "        print('Nulls:', dataframe[c].isnull().sum())\n",
    "\n",
    "        \n",
    "def plot_correlation_map(df):\n",
    "    corr = df.corr()\n",
    "    _ , ax = plt.subplots(figsize=(12,10))\n",
    "    cmap = sns.diverging_palette(220,10, as_camp = True)\n",
    "    _  =sns.heatmap(\n",
    "        corr,\n",
    "        cmap = cmap,\n",
    "        square = True,\n",
    "        cbar_kws = {'shrink' : .9},\n",
    "        ax=ax,\n",
    "        annot = True,\n",
    "        annot_kws = {'fontsize' : 12}\n",
    "    )"
   ]
  },
  {
   "cell_type": "markdown",
   "metadata": {},
   "source": [
    "#### Preparing Data\n",
    "\n",
    "##### Reading from file\n",
    "Just reaing the file and printing some lines."
   ]
  },
  {
   "cell_type": "code",
   "execution_count": 4,
   "metadata": {
    "scrolled": true
   },
   "outputs": [
    {
     "data": {
      "text/html": [
       "<div>\n",
       "<style scoped>\n",
       "    .dataframe tbody tr th:only-of-type {\n",
       "        vertical-align: middle;\n",
       "    }\n",
       "\n",
       "    .dataframe tbody tr th {\n",
       "        vertical-align: top;\n",
       "    }\n",
       "\n",
       "    .dataframe thead th {\n",
       "        text-align: right;\n",
       "    }\n",
       "</style>\n",
       "<table border=\"1\" class=\"dataframe\">\n",
       "  <thead>\n",
       "    <tr style=\"text-align: right;\">\n",
       "      <th></th>\n",
       "      <th>dateCrawled</th>\n",
       "      <th>name</th>\n",
       "      <th>seller</th>\n",
       "      <th>offerType</th>\n",
       "      <th>price</th>\n",
       "      <th>abtest</th>\n",
       "      <th>vehicleType</th>\n",
       "      <th>yearOfRegistration</th>\n",
       "      <th>gearbox</th>\n",
       "      <th>powerPS</th>\n",
       "      <th>model</th>\n",
       "      <th>kilometer</th>\n",
       "      <th>monthOfRegistration</th>\n",
       "      <th>fuelType</th>\n",
       "      <th>brand</th>\n",
       "      <th>notRepairedDamage</th>\n",
       "      <th>dateCreated</th>\n",
       "      <th>nrOfPictures</th>\n",
       "      <th>postalCode</th>\n",
       "      <th>lastSeen</th>\n",
       "    </tr>\n",
       "  </thead>\n",
       "  <tbody>\n",
       "    <tr>\n",
       "      <th>43607</th>\n",
       "      <td>2016-03-05 18:57:33</td>\n",
       "      <td>Golf_Blue_Motion</td>\n",
       "      <td>privat</td>\n",
       "      <td>Angebot</td>\n",
       "      <td>7600</td>\n",
       "      <td>test</td>\n",
       "      <td>kombi</td>\n",
       "      <td>2009</td>\n",
       "      <td>manuell</td>\n",
       "      <td>0</td>\n",
       "      <td>golf</td>\n",
       "      <td>150000</td>\n",
       "      <td>8</td>\n",
       "      <td>diesel</td>\n",
       "      <td>volkswagen</td>\n",
       "      <td>nein</td>\n",
       "      <td>2016-02-29 00:00:00</td>\n",
       "      <td>0</td>\n",
       "      <td>70180</td>\n",
       "      <td>2016-04-06 12:45:37</td>\n",
       "    </tr>\n",
       "    <tr>\n",
       "      <th>262424</th>\n",
       "      <td>2016-03-17 16:57:37</td>\n",
       "      <td>VW_Mexico_Kaefer_/_TÜV_2017</td>\n",
       "      <td>privat</td>\n",
       "      <td>Angebot</td>\n",
       "      <td>3050</td>\n",
       "      <td>test</td>\n",
       "      <td>NaN</td>\n",
       "      <td>2017</td>\n",
       "      <td>manuell</td>\n",
       "      <td>34</td>\n",
       "      <td>kaefer</td>\n",
       "      <td>50000</td>\n",
       "      <td>6</td>\n",
       "      <td>benzin</td>\n",
       "      <td>volkswagen</td>\n",
       "      <td>nein</td>\n",
       "      <td>2016-03-17 00:00:00</td>\n",
       "      <td>0</td>\n",
       "      <td>48529</td>\n",
       "      <td>2016-04-07 03:17:26</td>\n",
       "    </tr>\n",
       "    <tr>\n",
       "      <th>92703</th>\n",
       "      <td>2016-03-12 00:36:35</td>\n",
       "      <td>Volvo_V40_1.8</td>\n",
       "      <td>privat</td>\n",
       "      <td>Angebot</td>\n",
       "      <td>1299</td>\n",
       "      <td>test</td>\n",
       "      <td>kombi</td>\n",
       "      <td>1999</td>\n",
       "      <td>manuell</td>\n",
       "      <td>116</td>\n",
       "      <td>v40</td>\n",
       "      <td>150000</td>\n",
       "      <td>3</td>\n",
       "      <td>benzin</td>\n",
       "      <td>volvo</td>\n",
       "      <td>nein</td>\n",
       "      <td>2016-03-12 00:00:00</td>\n",
       "      <td>0</td>\n",
       "      <td>17087</td>\n",
       "      <td>2016-04-05 19:45:23</td>\n",
       "    </tr>\n",
       "    <tr>\n",
       "      <th>268367</th>\n",
       "      <td>2016-03-07 18:39:24</td>\n",
       "      <td>Volkswagen_Passat_Variant_2.0_Blue_TDI___DSG__...</td>\n",
       "      <td>privat</td>\n",
       "      <td>Angebot</td>\n",
       "      <td>11500</td>\n",
       "      <td>control</td>\n",
       "      <td>kombi</td>\n",
       "      <td>2010</td>\n",
       "      <td>automatik</td>\n",
       "      <td>143</td>\n",
       "      <td>passat</td>\n",
       "      <td>150000</td>\n",
       "      <td>2</td>\n",
       "      <td>diesel</td>\n",
       "      <td>volkswagen</td>\n",
       "      <td>nein</td>\n",
       "      <td>2016-03-07 00:00:00</td>\n",
       "      <td>0</td>\n",
       "      <td>84550</td>\n",
       "      <td>2016-03-20 18:35:52</td>\n",
       "    </tr>\n",
       "    <tr>\n",
       "      <th>151598</th>\n",
       "      <td>2016-03-06 09:38:18</td>\n",
       "      <td>peugeot_206_zu_verkaufen..</td>\n",
       "      <td>privat</td>\n",
       "      <td>Angebot</td>\n",
       "      <td>1</td>\n",
       "      <td>control</td>\n",
       "      <td>NaN</td>\n",
       "      <td>2005</td>\n",
       "      <td>manuell</td>\n",
       "      <td>75</td>\n",
       "      <td>2_reihe</td>\n",
       "      <td>150000</td>\n",
       "      <td>6</td>\n",
       "      <td>NaN</td>\n",
       "      <td>peugeot</td>\n",
       "      <td>ja</td>\n",
       "      <td>2016-03-06 00:00:00</td>\n",
       "      <td>0</td>\n",
       "      <td>12045</td>\n",
       "      <td>2016-03-31 09:16:56</td>\n",
       "    </tr>\n",
       "    <tr>\n",
       "      <th>37173</th>\n",
       "      <td>2016-04-02 16:41:20</td>\n",
       "      <td>Mercedes_Benz_A_170_CDI_inkl._Sommerreifen</td>\n",
       "      <td>privat</td>\n",
       "      <td>Angebot</td>\n",
       "      <td>3490</td>\n",
       "      <td>control</td>\n",
       "      <td>limousine</td>\n",
       "      <td>2002</td>\n",
       "      <td>manuell</td>\n",
       "      <td>95</td>\n",
       "      <td>a_klasse</td>\n",
       "      <td>90000</td>\n",
       "      <td>4</td>\n",
       "      <td>diesel</td>\n",
       "      <td>mercedes_benz</td>\n",
       "      <td>nein</td>\n",
       "      <td>2016-04-02 00:00:00</td>\n",
       "      <td>0</td>\n",
       "      <td>71065</td>\n",
       "      <td>2016-04-06 15:17:59</td>\n",
       "    </tr>\n",
       "    <tr>\n",
       "      <th>316627</th>\n",
       "      <td>2016-03-07 19:43:06</td>\n",
       "      <td>Peugeot_406_Coupe_2.0_16V_Premium</td>\n",
       "      <td>privat</td>\n",
       "      <td>Angebot</td>\n",
       "      <td>4130</td>\n",
       "      <td>control</td>\n",
       "      <td>coupe</td>\n",
       "      <td>1998</td>\n",
       "      <td>manuell</td>\n",
       "      <td>132</td>\n",
       "      <td>4_reihe</td>\n",
       "      <td>100000</td>\n",
       "      <td>12</td>\n",
       "      <td>benzin</td>\n",
       "      <td>peugeot</td>\n",
       "      <td>nein</td>\n",
       "      <td>2016-03-07 00:00:00</td>\n",
       "      <td>0</td>\n",
       "      <td>44623</td>\n",
       "      <td>2016-04-07 09:45:26</td>\n",
       "    </tr>\n",
       "    <tr>\n",
       "      <th>56965</th>\n",
       "      <td>2016-03-19 09:53:40</td>\n",
       "      <td>Audi_Cabriolet_2.0</td>\n",
       "      <td>privat</td>\n",
       "      <td>Angebot</td>\n",
       "      <td>1699</td>\n",
       "      <td>test</td>\n",
       "      <td>cabrio</td>\n",
       "      <td>1997</td>\n",
       "      <td>manuell</td>\n",
       "      <td>116</td>\n",
       "      <td>andere</td>\n",
       "      <td>150000</td>\n",
       "      <td>6</td>\n",
       "      <td>benzin</td>\n",
       "      <td>audi</td>\n",
       "      <td>nein</td>\n",
       "      <td>2016-03-19 00:00:00</td>\n",
       "      <td>0</td>\n",
       "      <td>89150</td>\n",
       "      <td>2016-04-06 08:45:58</td>\n",
       "    </tr>\n",
       "    <tr>\n",
       "      <th>301019</th>\n",
       "      <td>2016-03-09 07:57:11</td>\n",
       "      <td>BMW_M235i_Coupe_Sport_Aut._M_Performance</td>\n",
       "      <td>privat</td>\n",
       "      <td>Angebot</td>\n",
       "      <td>43990</td>\n",
       "      <td>test</td>\n",
       "      <td>coupe</td>\n",
       "      <td>2016</td>\n",
       "      <td>automatik</td>\n",
       "      <td>326</td>\n",
       "      <td>m_reihe</td>\n",
       "      <td>20000</td>\n",
       "      <td>3</td>\n",
       "      <td>benzin</td>\n",
       "      <td>bmw</td>\n",
       "      <td>nein</td>\n",
       "      <td>2016-03-09 00:00:00</td>\n",
       "      <td>0</td>\n",
       "      <td>84066</td>\n",
       "      <td>2016-04-07 07:15:37</td>\n",
       "    </tr>\n",
       "    <tr>\n",
       "      <th>340339</th>\n",
       "      <td>2016-04-04 15:47:16</td>\n",
       "      <td>Bmw_318_Klima__Leder__Sitzheizung__El_verdeckt__</td>\n",
       "      <td>privat</td>\n",
       "      <td>Angebot</td>\n",
       "      <td>2900</td>\n",
       "      <td>test</td>\n",
       "      <td>cabrio</td>\n",
       "      <td>1999</td>\n",
       "      <td>manuell</td>\n",
       "      <td>85</td>\n",
       "      <td>3er</td>\n",
       "      <td>150000</td>\n",
       "      <td>5</td>\n",
       "      <td>NaN</td>\n",
       "      <td>bmw</td>\n",
       "      <td>nein</td>\n",
       "      <td>2016-04-04 00:00:00</td>\n",
       "      <td>0</td>\n",
       "      <td>71083</td>\n",
       "      <td>2016-04-06 17:17:42</td>\n",
       "    </tr>\n",
       "  </tbody>\n",
       "</table>\n",
       "</div>"
      ],
      "text/plain": [
       "                dateCrawled  \\\n",
       "43607   2016-03-05 18:57:33   \n",
       "262424  2016-03-17 16:57:37   \n",
       "92703   2016-03-12 00:36:35   \n",
       "268367  2016-03-07 18:39:24   \n",
       "151598  2016-03-06 09:38:18   \n",
       "37173   2016-04-02 16:41:20   \n",
       "316627  2016-03-07 19:43:06   \n",
       "56965   2016-03-19 09:53:40   \n",
       "301019  2016-03-09 07:57:11   \n",
       "340339  2016-04-04 15:47:16   \n",
       "\n",
       "                                                     name  seller offerType  \\\n",
       "43607                                    Golf_Blue_Motion  privat   Angebot   \n",
       "262424                        VW_Mexico_Kaefer_/_TÜV_2017  privat   Angebot   \n",
       "92703                                       Volvo_V40_1.8  privat   Angebot   \n",
       "268367  Volkswagen_Passat_Variant_2.0_Blue_TDI___DSG__...  privat   Angebot   \n",
       "151598                         peugeot_206_zu_verkaufen..  privat   Angebot   \n",
       "37173          Mercedes_Benz_A_170_CDI_inkl._Sommerreifen  privat   Angebot   \n",
       "316627                  Peugeot_406_Coupe_2.0_16V_Premium  privat   Angebot   \n",
       "56965                                  Audi_Cabriolet_2.0  privat   Angebot   \n",
       "301019           BMW_M235i_Coupe_Sport_Aut._M_Performance  privat   Angebot   \n",
       "340339   Bmw_318_Klima__Leder__Sitzheizung__El_verdeckt__  privat   Angebot   \n",
       "\n",
       "        price   abtest vehicleType  yearOfRegistration    gearbox  powerPS  \\\n",
       "43607    7600     test       kombi                2009    manuell        0   \n",
       "262424   3050     test         NaN                2017    manuell       34   \n",
       "92703    1299     test       kombi                1999    manuell      116   \n",
       "268367  11500  control       kombi                2010  automatik      143   \n",
       "151598      1  control         NaN                2005    manuell       75   \n",
       "37173    3490  control   limousine                2002    manuell       95   \n",
       "316627   4130  control       coupe                1998    manuell      132   \n",
       "56965    1699     test      cabrio                1997    manuell      116   \n",
       "301019  43990     test       coupe                2016  automatik      326   \n",
       "340339   2900     test      cabrio                1999    manuell       85   \n",
       "\n",
       "           model  kilometer  monthOfRegistration fuelType          brand  \\\n",
       "43607       golf     150000                    8   diesel     volkswagen   \n",
       "262424    kaefer      50000                    6   benzin     volkswagen   \n",
       "92703        v40     150000                    3   benzin          volvo   \n",
       "268367    passat     150000                    2   diesel     volkswagen   \n",
       "151598   2_reihe     150000                    6      NaN        peugeot   \n",
       "37173   a_klasse      90000                    4   diesel  mercedes_benz   \n",
       "316627   4_reihe     100000                   12   benzin        peugeot   \n",
       "56965     andere     150000                    6   benzin           audi   \n",
       "301019   m_reihe      20000                    3   benzin            bmw   \n",
       "340339       3er     150000                    5      NaN            bmw   \n",
       "\n",
       "       notRepairedDamage          dateCreated  nrOfPictures  postalCode  \\\n",
       "43607               nein  2016-02-29 00:00:00             0       70180   \n",
       "262424              nein  2016-03-17 00:00:00             0       48529   \n",
       "92703               nein  2016-03-12 00:00:00             0       17087   \n",
       "268367              nein  2016-03-07 00:00:00             0       84550   \n",
       "151598                ja  2016-03-06 00:00:00             0       12045   \n",
       "37173               nein  2016-04-02 00:00:00             0       71065   \n",
       "316627              nein  2016-03-07 00:00:00             0       44623   \n",
       "56965               nein  2016-03-19 00:00:00             0       89150   \n",
       "301019              nein  2016-03-09 00:00:00             0       84066   \n",
       "340339              nein  2016-04-04 00:00:00             0       71083   \n",
       "\n",
       "                   lastSeen  \n",
       "43607   2016-04-06 12:45:37  \n",
       "262424  2016-04-07 03:17:26  \n",
       "92703   2016-04-05 19:45:23  \n",
       "268367  2016-03-20 18:35:52  \n",
       "151598  2016-03-31 09:16:56  \n",
       "37173   2016-04-06 15:17:59  \n",
       "316627  2016-04-07 09:45:26  \n",
       "56965   2016-04-06 08:45:58  \n",
       "301019  2016-04-07 07:15:37  \n",
       "340339  2016-04-06 17:17:42  "
      ]
     },
     "execution_count": 4,
     "metadata": {},
     "output_type": "execute_result"
    }
   ],
   "source": [
    "df= pd.read_csv(\"D:/Aditya/datasets/used-cars-database/autos.csv\", encoding='cp1252')\n",
    "df.sample(10)"
   ]
  },
  {
   "cell_type": "markdown",
   "metadata": {},
   "source": [
    "###### Let's see some info from numeric fields"
   ]
  },
  {
   "cell_type": "code",
   "execution_count": 5,
   "metadata": {},
   "outputs": [
    {
     "data": {
      "text/html": [
       "<div>\n",
       "<style scoped>\n",
       "    .dataframe tbody tr th:only-of-type {\n",
       "        vertical-align: middle;\n",
       "    }\n",
       "\n",
       "    .dataframe tbody tr th {\n",
       "        vertical-align: top;\n",
       "    }\n",
       "\n",
       "    .dataframe thead th {\n",
       "        text-align: right;\n",
       "    }\n",
       "</style>\n",
       "<table border=\"1\" class=\"dataframe\">\n",
       "  <thead>\n",
       "    <tr style=\"text-align: right;\">\n",
       "      <th></th>\n",
       "      <th>price</th>\n",
       "      <th>yearOfRegistration</th>\n",
       "      <th>powerPS</th>\n",
       "      <th>kilometer</th>\n",
       "      <th>monthOfRegistration</th>\n",
       "      <th>nrOfPictures</th>\n",
       "      <th>postalCode</th>\n",
       "    </tr>\n",
       "  </thead>\n",
       "  <tbody>\n",
       "    <tr>\n",
       "      <th>count</th>\n",
       "      <td>3.715280e+05</td>\n",
       "      <td>371528.000000</td>\n",
       "      <td>371528.000000</td>\n",
       "      <td>371528.000000</td>\n",
       "      <td>371528.000000</td>\n",
       "      <td>371528.0</td>\n",
       "      <td>371528.00000</td>\n",
       "    </tr>\n",
       "    <tr>\n",
       "      <th>mean</th>\n",
       "      <td>1.729514e+04</td>\n",
       "      <td>2004.577997</td>\n",
       "      <td>115.549477</td>\n",
       "      <td>125618.688228</td>\n",
       "      <td>5.734445</td>\n",
       "      <td>0.0</td>\n",
       "      <td>50820.66764</td>\n",
       "    </tr>\n",
       "    <tr>\n",
       "      <th>std</th>\n",
       "      <td>3.587954e+06</td>\n",
       "      <td>92.866598</td>\n",
       "      <td>192.139578</td>\n",
       "      <td>40112.337051</td>\n",
       "      <td>3.712412</td>\n",
       "      <td>0.0</td>\n",
       "      <td>25799.08247</td>\n",
       "    </tr>\n",
       "    <tr>\n",
       "      <th>min</th>\n",
       "      <td>0.000000e+00</td>\n",
       "      <td>1000.000000</td>\n",
       "      <td>0.000000</td>\n",
       "      <td>5000.000000</td>\n",
       "      <td>0.000000</td>\n",
       "      <td>0.0</td>\n",
       "      <td>1067.00000</td>\n",
       "    </tr>\n",
       "    <tr>\n",
       "      <th>25%</th>\n",
       "      <td>1.150000e+03</td>\n",
       "      <td>1999.000000</td>\n",
       "      <td>70.000000</td>\n",
       "      <td>125000.000000</td>\n",
       "      <td>3.000000</td>\n",
       "      <td>0.0</td>\n",
       "      <td>30459.00000</td>\n",
       "    </tr>\n",
       "    <tr>\n",
       "      <th>50%</th>\n",
       "      <td>2.950000e+03</td>\n",
       "      <td>2003.000000</td>\n",
       "      <td>105.000000</td>\n",
       "      <td>150000.000000</td>\n",
       "      <td>6.000000</td>\n",
       "      <td>0.0</td>\n",
       "      <td>49610.00000</td>\n",
       "    </tr>\n",
       "    <tr>\n",
       "      <th>75%</th>\n",
       "      <td>7.200000e+03</td>\n",
       "      <td>2008.000000</td>\n",
       "      <td>150.000000</td>\n",
       "      <td>150000.000000</td>\n",
       "      <td>9.000000</td>\n",
       "      <td>0.0</td>\n",
       "      <td>71546.00000</td>\n",
       "    </tr>\n",
       "    <tr>\n",
       "      <th>max</th>\n",
       "      <td>2.147484e+09</td>\n",
       "      <td>9999.000000</td>\n",
       "      <td>20000.000000</td>\n",
       "      <td>150000.000000</td>\n",
       "      <td>12.000000</td>\n",
       "      <td>0.0</td>\n",
       "      <td>99998.00000</td>\n",
       "    </tr>\n",
       "  </tbody>\n",
       "</table>\n",
       "</div>"
      ],
      "text/plain": [
       "              price  yearOfRegistration        powerPS      kilometer  \\\n",
       "count  3.715280e+05       371528.000000  371528.000000  371528.000000   \n",
       "mean   1.729514e+04         2004.577997     115.549477  125618.688228   \n",
       "std    3.587954e+06           92.866598     192.139578   40112.337051   \n",
       "min    0.000000e+00         1000.000000       0.000000    5000.000000   \n",
       "25%    1.150000e+03         1999.000000      70.000000  125000.000000   \n",
       "50%    2.950000e+03         2003.000000     105.000000  150000.000000   \n",
       "75%    7.200000e+03         2008.000000     150.000000  150000.000000   \n",
       "max    2.147484e+09         9999.000000   20000.000000  150000.000000   \n",
       "\n",
       "       monthOfRegistration  nrOfPictures    postalCode  \n",
       "count        371528.000000      371528.0  371528.00000  \n",
       "mean              5.734445           0.0   50820.66764  \n",
       "std               3.712412           0.0   25799.08247  \n",
       "min               0.000000           0.0    1067.00000  \n",
       "25%               3.000000           0.0   30459.00000  \n",
       "50%               6.000000           0.0   49610.00000  \n",
       "75%               9.000000           0.0   71546.00000  \n",
       "max              12.000000           0.0   99998.00000  "
      ]
     },
     "execution_count": 5,
     "metadata": {},
     "output_type": "execute_result"
    }
   ],
   "source": [
    "df.describe()"
   ]
  },
  {
   "cell_type": "markdown",
   "metadata": {},
   "source": [
    "#### Dropping some useless columns \n",
    "Come columns can be dropped here."
   ]
  },
  {
   "cell_type": "code",
   "execution_count": 6,
   "metadata": {},
   "outputs": [
    {
     "data": {
      "text/plain": [
       "Index(['dateCrawled', 'name', 'seller', 'offerType', 'price', 'abtest',\n",
       "       'vehicleType', 'yearOfRegistration', 'gearbox', 'powerPS', 'model',\n",
       "       'kilometer', 'monthOfRegistration', 'fuelType', 'brand',\n",
       "       'notRepairedDamage', 'dateCreated', 'nrOfPictures', 'postalCode',\n",
       "       'lastSeen'],\n",
       "      dtype='object')"
      ]
     },
     "execution_count": 6,
     "metadata": {},
     "output_type": "execute_result"
    }
   ],
   "source": [
    "df.columns"
   ]
  },
  {
   "cell_type": "markdown",
   "metadata": {},
   "source": [
    "## Dropping some useless columns\n",
    "\n",
    "some columns can already be dropped."
   ]
  },
  {
   "cell_type": "code",
   "execution_count": 7,
   "metadata": {},
   "outputs": [
    {
     "name": "stdout",
     "output_type": "stream",
     "text": [
      "['privat' 'gewerblich']\n",
      "['Angebot' 'Gesuch']\n",
      "['test' 'control']\n",
      "[0]\n"
     ]
    }
   ],
   "source": [
    "print(df.seller.unique())\n",
    "print(df.offerType.unique())\n",
    "print(df.abtest.unique())\n",
    "print(df.nrOfPictures.unique())"
   ]
  },
  {
   "cell_type": "markdown",
   "metadata": {},
   "source": [
    "Seller has only one value, while offerType and abTest has no relevance for the analysis. So far, I still don't know how to use the dateCrawled column.\n",
    "\n",
    "Therefore I modify the dataframe dropping all those features.\n",
    "\n",
    "I remove lastseen, dateCreated and postalCode as well as I don't think they will be useful for a price prediction."
   ]
  },
  {
   "cell_type": "code",
   "execution_count": 8,
   "metadata": {},
   "outputs": [],
   "source": [
    "df.drop(['seller','offerType','abtest','dateCrawled','nrOfPictures','lastSeen','postalCode','dateCreated'], axis='columns', inplace=True)"
   ]
  },
  {
   "cell_type": "markdown",
   "metadata": {},
   "source": [
    "## Cleaning data\n",
    "Cleaning data from duplicates, NANs and selecting reasonable ranges for columns."
   ]
  },
  {
   "cell_type": "code",
   "execution_count": 14,
   "metadata": {},
   "outputs": [
    {
     "name": "stdout",
     "output_type": "stream",
     "text": [
      "Too new: 14680\n",
      "Too old: 311\n",
      "Too Cheap: 13320\n",
      "Too expensive:  232\n",
      "Too few km:  0\n",
      "Too many kms driven:  0\n",
      "Too few PS:  41040\n",
      "Too many PS:  835\n",
      "Fuel types:  ['benzin' 'diesel' nan 'lpg' 'andere' 'hybrid' 'cng' 'elektro']\n",
      "Damages:  [nan 'ja' 'nein']\n",
      "Vehicle types:  [nan 'coupe' 'suv' 'kleinwagen' 'limousine' 'cabrio' 'bus' 'kombi'\n",
      " 'andere']\n",
      "Brands:  ['volkswagen' 'audi' 'jeep' 'skoda' 'bmw' 'peugeot' 'ford' 'mazda'\n",
      " 'nissan' 'renault' 'mercedes_benz' 'opel' 'seat' 'citroen' 'honda' 'fiat'\n",
      " 'mini' 'smart' 'hyundai' 'sonstige_autos' 'alfa_romeo' 'subaru' 'volvo'\n",
      " 'mitsubishi' 'kia' 'suzuki' 'lancia' 'porsche' 'toyota' 'chevrolet'\n",
      " 'dacia' 'daihatsu' 'trabant' 'saab' 'chrysler' 'jaguar' 'daewoo' 'rover'\n",
      " 'land_rover' 'lada']\n",
      "-----------------\n",
      "Data kept for analisys: 81 percent of the entire set\n",
      "-----------------\n"
     ]
    }
   ],
   "source": [
    "print(\"Too new: %d\" % df.loc[df.yearOfRegistration >=2017].count()['name'])\n",
    "print(\"Too old: %d\" % df.loc[df.yearOfRegistration <=1950].count()['name'])\n",
    "print(\"Too Cheap: %d\" % df.loc[df.price <100].count()['name'])\n",
    "print(\"Too expensive: \" , df.loc[df.price > 150000].count()['name'])\n",
    "print(\"Too few km: \" , df.loc[df.kilometer < 5000].count()['name'])\n",
    "print(\"Too many kms driven: \" , df.loc[df.kilometer > 200000].count()['name'])\n",
    "print(\"Too few PS: \" , df.loc[df.powerPS < 10].count()['name'])\n",
    "print(\"Too many PS: \" , df.loc[df.powerPS > 500].count()['name'])\n",
    "print(\"Fuel types: \" , df['fuelType'].unique())\n",
    "#print(\"Offer types: \" , df['offerType'].unique())\n",
    "#print(\"Sellers: \" , df['seller'].unique())\n",
    "print(\"Damages: \" , df['notRepairedDamage'].unique())\n",
    "#print(\"Pics: \" , df['nrOfPictures'].unique()) # nrOfPictures : number of pictures in the ad (unfortunately this field contains everywhere a 0 and is thus useless (bug in crawler!) )\n",
    "#print(\"Postale codes: \" , df['postalCode'].unique())\n",
    "print(\"Vehicle types: \" , df['vehicleType'].unique())\n",
    "print(\"Brands: \" , df['brand'].unique())\n",
    "\n",
    "# Cleaning data\n",
    "#valid_models = df.dropna()\n",
    "\n",
    "#### Removing the duplicates\n",
    "dedups = df.drop_duplicates(['name','price','vehicleType','yearOfRegistration'\n",
    "                         ,'gearbox','powerPS','model','kilometer','monthOfRegistration','fuelType'\n",
    "                         ,'notRepairedDamage'])\n",
    "\n",
    "#### Removing the outliers\n",
    "dedups = dedups[\n",
    "        (dedups.yearOfRegistration <= 2016) \n",
    "      & (dedups.yearOfRegistration >= 1950) \n",
    "      & (dedups.price >= 100) \n",
    "      & (dedups.price <= 150000) \n",
    "      & (dedups.powerPS >= 10) \n",
    "      & (dedups.powerPS <= 500)]\n",
    "\n",
    "print(\"-----------------\\nData kept for analisys: %d percent of the entire set\\n-----------------\" % (100 * dedups['name'].count() / df['name'].count()))\n"
   ]
  },
  {
   "cell_type": "markdown",
   "metadata": {},
   "source": [
    "## Working on the null vlaues"
   ]
  },
  {
   "cell_type": "markdown",
   "metadata": {},
   "source": [
    "Checking if there are NaNs to be fixed or dropped."
   ]
  },
  {
   "cell_type": "code",
   "execution_count": 15,
   "metadata": {},
   "outputs": [
    {
     "data": {
      "text/plain": [
       "name                       0\n",
       "price                      0\n",
       "vehicleType            10818\n",
       "yearOfRegistration         0\n",
       "gearbox                 5260\n",
       "powerPS                    0\n",
       "model                  11347\n",
       "kilometer                  0\n",
       "monthOfRegistration        0\n",
       "fuelType               15400\n",
       "brand                      0\n",
       "notRepairedDamage      42124\n",
       "dtype: int64"
      ]
     },
     "execution_count": 15,
     "metadata": {},
     "output_type": "execute_result"
    }
   ],
   "source": [
    "dedups.isnull().sum()"
   ]
  },
  {
   "cell_type": "markdown",
   "metadata": {},
   "source": [
    "Some decisions to take for the nulls in the following fields: vehicleType (37422 nulls), gearbox (19803 nulls), model (20288 nulls), fuelType (33081 nulls), notRepairedDamage (70770 nulls).\n",
    "\n"
   ]
  },
  {
   "cell_type": "markdown",
   "metadata": {},
   "source": [
    "model-brand-vehicleType\n",
    "\n",
    "If we have the model we could determine the brand and the vehicleType calculating the mode for the corresponding fields in the rest of the dataset. The opposite combinations are not true. So I think the actions should be:\n",
    "\n",
    "| vehicleType | brand | model | Action\n",
    "| ---           | ---     | ---     |\n",
    "| null        |  null | [value] | Set the other fields\n",
    "| null        | [value] | null  | Delete\n",
    "| [value]       |  null | null  | Delete\n"
   ]
  },
  {
   "cell_type": "markdown",
   "metadata": {},
   "source": [
    "**So far, I'll drop all the NaNs in these 3 fields.**\n",
    "\n",
    "**notRepairedDamage** Those with null notRepairedDamage field could be set to \"not-declared\" value for example.\n",
    "\n",
    "**fuelType** Null fuelTypes could be set to \"not-declared\" value again.\n",
    "\n",
    "**gearbox** Null fuelTypes could be set to \"not-declared\" value again."
   ]
  },
  {
   "cell_type": "code",
   "execution_count": 17,
   "metadata": {},
   "outputs": [],
   "source": [
    "dedups['notRepairedDamage'].fillna(value='not-declared', inplace=True)\n",
    "dedups['fuelType'].fillna(value='not-declared', inplace=True)\n",
    "dedups['gearbox'].fillna(value='not-declared', inplace=True)\n",
    "dedups['vehicleType'].fillna(value='not-declared', inplace=True)\n",
    "dedups['model'].fillna(value='not-declared', inplace=True)"
   ]
  },
  {
   "cell_type": "markdown",
   "metadata": {},
   "source": [
    "Checking if all the nulls have been filled or dropped."
   ]
  },
  {
   "cell_type": "code",
   "execution_count": 18,
   "metadata": {},
   "outputs": [
    {
     "data": {
      "text/plain": [
       "name                   0\n",
       "price                  0\n",
       "vehicleType            0\n",
       "yearOfRegistration     0\n",
       "gearbox                0\n",
       "powerPS                0\n",
       "model                  0\n",
       "kilometer              0\n",
       "monthOfRegistration    0\n",
       "fuelType               0\n",
       "brand                  0\n",
       "notRepairedDamage      0\n",
       "dtype: int64"
      ]
     },
     "execution_count": 18,
     "metadata": {},
     "output_type": "execute_result"
    }
   ],
   "source": [
    "dedups.isnull().sum()"
   ]
  },
  {
   "cell_type": "markdown",
   "metadata": {},
   "source": [
    "At this point, our data is clean. Let's do some visualizations now."
   ]
  },
  {
   "cell_type": "markdown",
   "metadata": {},
   "source": [
    "## Visualizations"
   ]
  },
  {
   "cell_type": "markdown",
   "metadata": {},
   "source": [
    "### Categories distribution"
   ]
  },
  {
   "cell_type": "markdown",
   "metadata": {},
   "source": [
    "Let's see some charts to understand how data is distributed across the categories."
   ]
  },
  {
   "cell_type": "code",
   "execution_count": 20,
   "metadata": {},
   "outputs": [
    {
     "name": "stdout",
     "output_type": "stream",
     "text": [
      "gearbox\n",
      "manuell         231997\n",
      "automatik        66876\n",
      "not-declared      5260\n",
      "Name: gearbox, dtype: int64\n"
     ]
    },
    {
     "data": {
      "image/png": "[encoded data removed]",
      "text/plain": [
       "<Figure size 360x216 with 1 Axes>"
      ]
     },
     "metadata": {},
     "output_type": "display_data"
    },
    {
     "name": "stdout",
     "output_type": "stream",
     "text": [
      "model\n",
      "golf            24846\n",
      "andere          21733\n",
      "3er             17704\n",
      "not-declared    11347\n",
      "polo            10477\n",
      "Name: model, dtype: int64\n"
     ]
    },
    {
     "data": {
      "image/png": "[encoded data removed]",
      "text/plain": [
       "<Figure size 360x216 with 1 Axes>"
      ]
     },
     "metadata": {},
     "output_type": "display_data"
    },
    {
     "name": "stdout",
     "output_type": "stream",
     "text": [
      "brand\n",
      "volkswagen       64853\n",
      "bmw              34441\n",
      "opel             31757\n",
      "mercedes_benz    29562\n",
      "audi             27984\n",
      "Name: brand, dtype: int64\n"
     ]
    },
    {
     "data": {
      "image/png": "[encoded data removed]",
      "text/plain": [
       "<Figure size 360x216 with 1 Axes>"
      ]
     },
     "metadata": {},
     "output_type": "display_data"
    },
    {
     "name": "stdout",
     "output_type": "stream",
     "text": [
      "vehicleType\n",
      "limousine     84843\n",
      "kleinwagen    68415\n",
      "kombi         59863\n",
      "bus           26986\n",
      "cabrio        20921\n",
      "Name: vehicleType, dtype: int64\n"
     ]
    },
    {
     "data": {
      "image/png": "[encoded data removed]",
      "text/plain": [
       "<Figure size 360x216 with 1 Axes>"
      ]
     },
     "metadata": {},
     "output_type": "display_data"
    },
    {
     "name": "stdout",
     "output_type": "stream",
     "text": [
      "fuelType\n",
      "benzin          189919\n",
      "diesel           93299\n",
      "not-declared     15400\n",
      "lpg               4646\n",
      "cng                474\n",
      "Name: fuelType, dtype: int64\n"
     ]
    },
    {
     "data": {
      "image/png": "[encoded data removed]",
      "text/plain": [
       "<Figure size 360x216 with 1 Axes>"
      ]
     },
     "metadata": {},
     "output_type": "display_data"
    },
    {
     "name": "stdout",
     "output_type": "stream",
     "text": [
      "notRepairedDamage\n",
      "nein            233684\n",
      "not-declared     42124\n",
      "ja               28325\n",
      "Name: notRepairedDamage, dtype: int64\n"
     ]
    },
    {
     "data": {
      "image/png": "[encoded data removed]",
      "text/plain": [
       "<Figure size 360x216 with 1 Axes>"
      ]
     },
     "metadata": {},
     "output_type": "display_data"
    }
   ],
   "source": [
    "categories = ['gearbox','model','brand','vehicleType','fuelType','notRepairedDamage']\n",
    "\n",
    "for i,c in enumerate(categories):\n",
    "    v=dedups[c].unique()\n",
    "    \n",
    "    \n",
    "    g=dedups.groupby(by=c)[c].count().sort_values(ascending=False)\n",
    "    r=range(min(len(v),5))\n",
    "    \n",
    "    \n",
    "    print(g.head())\n",
    "    plt.figure(figsize=(5,3))\n",
    "    plt.bar(r,g.head())\n",
    "    plt.xticks(r,g.index)\n",
    "    plt.show()"
   ]
  },
  {
   "cell_type": "markdown",
   "metadata": {},
   "source": [
    "### Feature engineering\n",
    "\n",
    "\n",
    "\n",
    "Adding the name length to see how much does a long description influence the price"
   ]
  },
  {
   "cell_type": "code",
   "execution_count": 25,
   "metadata": {},
   "outputs": [
    {
     "name": "stderr",
     "output_type": "stream",
     "text": [
      "C:\\Users\\amansana\\AppData\\Local\\Continuum\\anaconda3\\lib\\site-packages\\matplotlib\\axes\\_axes.py:6462: UserWarning: The 'normed' kwarg is deprecated, and has been replaced by the 'density' kwarg.\n",
      "  warnings.warn(\"The 'normed' kwarg is deprecated, and has been \"\n",
      "C:\\Users\\amansana\\AppData\\Local\\Continuum\\anaconda3\\lib\\site-packages\\matplotlib\\axes\\_axes.py:6462: UserWarning: The 'normed' kwarg is deprecated, and has been replaced by the 'density' kwarg.\n",
      "  warnings.warn(\"The 'normed' kwarg is deprecated, and has been \"\n"
     ]
    },
    {
     "data": {
      "image/png": "[encoded data removed]",
      "text/plain": [
       "<Figure size 576x576 with 3 Axes>"
      ]
     },
     "metadata": {},
     "output_type": "display_data"
    }
   ],
   "source": [
    "dedups['namelen']=[min(70,len(n)) for n in dedups['name']]\n",
    "\n",
    "ax = sns.jointplot(x='namelen',\n",
    "                 y='price',\n",
    "                data=dedups[['namelen','price']],\n",
    "#                data=dedups[['namelen','price']][dedups['model']=='golf'],\n",
    "                 alpha=0.1,\n",
    "                 size=8)"
   ]
  },
  {
   "cell_type": "markdown",
   "metadata": {},
   "source": [
    "It seems that a name length between 15 and 30 characters is better for the sale price. An explanation could be that a longer name includes more optionals and accessories and therefore the price is obviously higher. Very short and very long names do not work well."
   ]
  },
  {
   "cell_type": "code",
   "execution_count": 26,
   "metadata": {},
   "outputs": [],
   "source": [
    "labels = ['name', 'gearbox', 'notRepairedDamage', 'model', 'brand', 'fuelType', 'vehicleType']\n",
    "les = {}\n",
    "\n",
    "for l in labels:\n",
    "    les[l] = preprocessing.LabelEncoder()\n",
    "    les[l].fit(dedups[l])\n",
    "    tr = les[l].transform(dedups[l]) \n",
    "    dedups.loc[:, l + '_feat'] = pd.Series(tr, index=dedups.index)\n",
    "\n",
    "labeled = dedups[ ['price'\n",
    "                        ,'yearOfRegistration'\n",
    "                        ,'powerPS'\n",
    "                        ,'kilometer'\n",
    "                        ,'monthOfRegistration'\n",
    "                        , 'namelen'] \n",
    "                    + [x+\"_feat\" for x in labels]]"
   ]
  },
  {
   "cell_type": "code",
   "execution_count": 27,
   "metadata": {},
   "outputs": [
    {
     "data": {
      "text/plain": [
       "0.6224184813880769"
      ]
     },
     "execution_count": 27,
     "metadata": {},
     "output_type": "execute_result"
    }
   ],
   "source": [
    "len(labeled['name_feat'].unique()) / len(labeled['name_feat'])"
   ]
  },
  {
   "cell_type": "markdown",
   "metadata": {},
   "source": [
    "Labels for the name column account for 62% of the total. I think it's too much, so I remove the feature.\n",
    "\n"
   ]
  },
  {
   "cell_type": "code",
   "execution_count": 28,
   "metadata": {},
   "outputs": [
    {
     "name": "stderr",
     "output_type": "stream",
     "text": [
      "C:\\Users\\amansana\\AppData\\Local\\Continuum\\anaconda3\\lib\\site-packages\\pandas\\core\\frame.py:3694: SettingWithCopyWarning: \n",
      "A value is trying to be set on a copy of a slice from a DataFrame\n",
      "\n",
      "See the caveats in the documentation: http://pandas.pydata.org/pandas-docs/stable/indexing.html#indexing-view-versus-copy\n",
      "  errors=errors)\n"
     ]
    }
   ],
   "source": [
    "labeled.drop(['name_feat'], axis='columns', inplace=True)"
   ]
  },
  {
   "cell_type": "markdown",
   "metadata": {},
   "source": [
    "### Correlations"
   ]
  },
  {
   "cell_type": "markdown",
   "metadata": {},
   "source": [
    "Let's see how the features are correlated to each other and, more important, with the price."
   ]
  },
  {
   "cell_type": "code",
   "execution_count": 33,
   "metadata": {},
   "outputs": [
    {
     "ename": "TypeError",
     "evalue": "diverging_palette() got an unexpected keyword argument 'as_camp'",
     "output_type": "error",
     "traceback": [
      "\u001b[1;31m---------------------------------------------------------------------------\u001b[0m",
      "\u001b[1;31mTypeError\u001b[0m                                 Traceback (most recent call last)",
      "\u001b[1;32m<ipython-input-33-7ea23932f73e>\u001b[0m in \u001b[0;36m<module>\u001b[1;34m()\u001b[0m\n\u001b[1;32m----> 1\u001b[1;33m \u001b[0mplot_correlation_map\u001b[0m\u001b[1;33m(\u001b[0m\u001b[0mlabeled\u001b[0m\u001b[1;33m)\u001b[0m\u001b[1;33m\u001b[0m\u001b[0m\n\u001b[0m\u001b[0;32m      2\u001b[0m \u001b[0mlabeled\u001b[0m\u001b[1;33m.\u001b[0m\u001b[0mcorr\u001b[0m\u001b[1;33m(\u001b[0m\u001b[1;33m)\u001b[0m\u001b[1;33m\u001b[0m\u001b[0m\n",
      "\u001b[1;32m<ipython-input-3-26c4906354e0>\u001b[0m in \u001b[0;36mplot_correlation_map\u001b[1;34m(df)\u001b[0m\n\u001b[0;32m      8\u001b[0m     \u001b[0mcorr\u001b[0m \u001b[1;33m=\u001b[0m \u001b[0mdf\u001b[0m\u001b[1;33m.\u001b[0m\u001b[0mcorr\u001b[0m\u001b[1;33m(\u001b[0m\u001b[1;33m)\u001b[0m\u001b[1;33m\u001b[0m\u001b[0m\n\u001b[0;32m      9\u001b[0m     \u001b[0m_\u001b[0m \u001b[1;33m,\u001b[0m \u001b[0max\u001b[0m \u001b[1;33m=\u001b[0m \u001b[0mplt\u001b[0m\u001b[1;33m.\u001b[0m\u001b[0msubplots\u001b[0m\u001b[1;33m(\u001b[0m\u001b[0mfigsize\u001b[0m\u001b[1;33m=\u001b[0m\u001b[1;33m(\u001b[0m\u001b[1;36m12\u001b[0m\u001b[1;33m,\u001b[0m\u001b[1;36m10\u001b[0m\u001b[1;33m)\u001b[0m\u001b[1;33m)\u001b[0m\u001b[1;33m\u001b[0m\u001b[0m\n\u001b[1;32m---> 10\u001b[1;33m     \u001b[0mcmap\u001b[0m \u001b[1;33m=\u001b[0m \u001b[0msns\u001b[0m\u001b[1;33m.\u001b[0m\u001b[0mdiverging_palette\u001b[0m\u001b[1;33m(\u001b[0m\u001b[1;36m220\u001b[0m\u001b[1;33m,\u001b[0m\u001b[1;36m10\u001b[0m\u001b[1;33m,\u001b[0m \u001b[0mas_camp\u001b[0m \u001b[1;33m=\u001b[0m \u001b[1;32mTrue\u001b[0m\u001b[1;33m)\u001b[0m\u001b[1;33m\u001b[0m\u001b[0m\n\u001b[0m\u001b[0;32m     11\u001b[0m     _  =sns.heatmap(\n\u001b[0;32m     12\u001b[0m         \u001b[0mcorr\u001b[0m\u001b[1;33m,\u001b[0m\u001b[1;33m\u001b[0m\u001b[0m\n",
      "\u001b[1;31mTypeError\u001b[0m: diverging_palette() got an unexpected keyword argument 'as_camp'"
     ]
    },
    {
     "data": {
      "image/png": "[encoded data removed]",
      "text/plain": [
       "<Figure size 864x720 with 1 Axes>"
      ]
     },
     "metadata": {},
     "output_type": "display_data"
    }
   ],
   "source": [
    "plot_correlation_map(labeled)\n",
    "labeled.corr()"
   ]
  },
  {
   "cell_type": "markdown",
   "metadata": {},
   "source": [
    "This is the list of the most influencing features for the price\n",
    "\n"
   ]
  },
  {
   "cell_type": "code",
   "execution_count": 34,
   "metadata": {},
   "outputs": [
    {
     "data": {
      "text/plain": [
       "powerPS                   0.573037\n",
       "kilometer                 0.444440\n",
       "yearOfRegistration        0.385264\n",
       "gearbox_feat              0.297746\n",
       "namelen                   0.186254\n",
       "brand_feat                0.105694\n",
       "fuelType_feat             0.055978\n",
       "monthOfRegistration       0.044782\n",
       "model_feat                0.012514\n",
       "vehicleType_feat          0.010906\n",
       "notRepairedDamage_feat    0.002440\n",
       "Name: price, dtype: float64"
      ]
     },
     "execution_count": 34,
     "metadata": {},
     "output_type": "execute_result"
    }
   ],
   "source": [
    "labeled.corr().loc[:,'price'].abs().sort_values(ascending=False)[1:]"
   ]
  },
  {
   "cell_type": "markdown",
   "metadata": {},
   "source": [
    "## Playing with different models\n",
    "### Prepare data for training\n",
    "Here I split the dataset in train and validation data and tune the right-skewed sale price column."
   ]
  },
  {
   "cell_type": "code",
   "execution_count": 35,
   "metadata": {},
   "outputs": [
    {
     "data": {
      "image/png": "[encoded data removed]",
      "text/plain": [
       "<Figure size 864x432 with 2 Axes>"
      ]
     },
     "metadata": {},
     "output_type": "display_data"
    }
   ],
   "source": [
    "Y = labeled['price']\n",
    "X = labeled.drop(['price'], axis='columns', inplace=False)\n",
    "\n",
    "\n",
    "matplotlib.rcParams['figure.figsize'] = (12.0, 6.0)\n",
    "prices = pd.DataFrame({\"1. Before\":Y, \"2. After\":np.log1p(Y)})\n",
    "prices.hist()\n",
    "\n",
    "Y = np.log1p(Y)"
   ]
  },
  {
   "cell_type": "markdown",
   "metadata": {},
   "source": [
    "### Basic imports and functions\n",
    "Trying with some model from scikit learn: LinearRegression, LR with L2 regularization and others."
   ]
  },
  {
   "cell_type": "code",
   "execution_count": 36,
   "metadata": {},
   "outputs": [
    {
     "name": "stdout",
     "output_type": "stream",
     "text": [
      "(203769, 11) (100364, 11) (203769,) (100364,)\n"
     ]
    }
   ],
   "source": [
    "from sklearn.linear_model import Ridge, RidgeCV, ElasticNet, Lasso, LassoCV, LassoLarsCV\n",
    "from sklearn.model_selection import cross_val_score, train_test_split\n",
    "\n",
    "def cv_rmse(model, x, y):\n",
    "    r = np.sqrt(-cross_val_score(model, x, y, scoring=\"neg_mean_squared_error\", cv = 5))\n",
    "    return r\n",
    "\n",
    "# Percent of the X array to use as training set. This implies that the rest will be test set\n",
    "test_size = .33\n",
    "\n",
    "#Split into train and validation\n",
    "X_train, X_val, y_train, y_val = train_test_split(X, Y, test_size=test_size, random_state = 3)\n",
    "print(X_train.shape, X_val.shape, y_train.shape, y_val.shape)\n",
    "\n",
    "r = range(2003, 2017)\n",
    "km_year = 10000"
   ]
  },
  {
   "cell_type": "markdown",
   "metadata": {},
   "source": [
    "## Random forests\n",
    "I use the GridSearch to set the optimal parameteres for the regressor, then train the final model.\n",
    "\n",
    "I've removed the other parameters to quickly make this point pass online while I keep working on many parameters offline."
   ]
  },
  {
   "cell_type": "code",
   "execution_count": 37,
   "metadata": {},
   "outputs": [
    {
     "name": "stdout",
     "output_type": "stream",
     "text": [
      "Fitting 2 folds for each of 1 candidates, totalling 2 fits\n"
     ]
    },
    {
     "name": "stderr",
     "output_type": "stream",
     "text": [
      "[Parallel(n_jobs=-1)]: Done   2 out of   2 | elapsed:  2.0min remaining:    0.0s\n",
      "[Parallel(n_jobs=-1)]: Done   2 out of   2 | elapsed:  2.0min finished\n"
     ]
    }
   ],
   "source": [
    "from sklearn.ensemble import RandomForestRegressor\n",
    "from sklearn.model_selection import GridSearchCV\n",
    "\n",
    "rf = RandomForestRegressor()\n",
    "\n",
    "param_grid = { \"criterion\" : [\"mse\"]\n",
    "              , \"min_samples_leaf\" : [3]\n",
    "              , \"min_samples_split\" : [3]\n",
    "              , \"max_depth\": [10]\n",
    "              , \"n_estimators\": [500]}\n",
    "\n",
    "gs = GridSearchCV(estimator=rf, param_grid=param_grid, cv=2, n_jobs=-1, verbose=1)\n",
    "gs = gs.fit(X_train, y_train)"
   ]
  },
  {
   "cell_type": "markdown",
   "metadata": {},
   "source": [
    "**Predicting samples**"
   ]
  },
  {
   "cell_type": "code",
   "execution_count": 41,
   "metadata": {},
   "outputs": [
    {
     "name": "stdout",
     "output_type": "stream",
     "text": [
      "0.8277018883757181\n",
      "{'criterion': 'mse', 'max_depth': 10, 'min_samples_leaf': 3, 'min_samples_split': 3, 'n_estimators': 500}\n"
     ]
    }
   ],
   "source": [
    "print(gs.best_score_)\n",
    "print(gs.best_params_)"
   ]
  },
  {
   "cell_type": "code",
   "execution_count": 42,
   "metadata": {},
   "outputs": [
    {
     "name": "stdout",
     "output_type": "stream",
     "text": [
      "Score: 0.83\n"
     ]
    }
   ],
   "source": [
    "bp = gs.best_params_\n",
    "forest = RandomForestRegressor(criterion=bp['criterion'],\n",
    "                              min_samples_leaf=bp['min_samples_leaf'],\n",
    "                              min_samples_split=bp['min_samples_split'],\n",
    "                              max_depth=bp['max_depth'],\n",
    "                              n_estimators=bp['n_estimators'])\n",
    "forest.fit(X_train, y_train)\n",
    "# Explained variance score: 1 is perfect prediction\n",
    "print('Score: %.2f' % forest.score(X_val, y_val))"
   ]
  },
  {
   "cell_type": "code",
   "execution_count": null,
   "metadata": {},
   "outputs": [],
   "source": []
  }
 ],
 "metadata": {
  "kernelspec": {
   "display_name": "Python 3",
   "language": "python",
   "name": "python3"
  },
  "language_info": {
   "codemirror_mode": {
    "name": "ipython",
    "version": 3
   },
   "file_extension": ".py",
   "mimetype": "text/x-python",
   "name": "python",
   "nbconvert_exporter": "python",
   "pygments_lexer": "ipython3",
   "version": "3.6.5"
  }
 },
 "nbformat": 4,
 "nbformat_minor": 2
}
